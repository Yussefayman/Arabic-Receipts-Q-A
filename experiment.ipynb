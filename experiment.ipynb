{
 "cells": [
  {
   "cell_type": "markdown",
   "metadata": {},
   "source": [
    "### Arabic OCR Experiment\n",
    "\n",
    "This notebook compares different OCR methods for Arabic text recognition on receipt images, including Docling with multiple backends"
   ]
  },
  {
   "cell_type": "markdown",
   "metadata": {},
   "source": [
    "### Imports and Configuration"
   ]
  },
  {
   "cell_type": "code",
   "execution_count": null,
   "metadata": {},
   "outputs": [],
   "source": "# Standard library imports\nimport os\nfrom pathlib import Path\nfrom types import SimpleNamespace\n\n# Third-party imports\nimport cv2\nimport numpy as np\nimport pandas as pd\nimport pytesseract\nimport easyocr\nfrom PIL import Image\nfrom dotenv import load_dotenv\n\n# Docling imports\nfrom docling.document_converter import DocumentConverter, ImageFormatOption\nfrom docling.datamodel.pipeline_options import (\n    PdfPipelineOptions,\n    EasyOcrOptions,\n    TesseractOcrOptions,\n    TesseractCliOcrOptions\n)\nfrom docling.datamodel.base_models import InputFormat\n\n# Get the notebook directory\nNOTEBOOK_DIR = Path.cwd()\nprint(f\"Notebook directory: {NOTEBOOK_DIR}\")\n\n# Load environment variables from .env file\nenv_path = NOTEBOOK_DIR / '.env'\nif env_path.exists():\n    load_dotenv(env_path)\n    print(f\"✅ Loaded environment from: {env_path}\")\nelse:\n    load_dotenv()\n    print(\"✅ Loaded environment variables\")\n\nprint(\"✅ All imports successful!\")"
  },
  {
   "cell_type": "markdown",
   "metadata": {},
   "source": [
    "### Tesseract Configuration"
   ]
  },
  {
   "cell_type": "code",
   "execution_count": null,
   "metadata": {},
   "outputs": [],
   "source": "class TesseractConfig:\n    \"\"\"Configuration class for Tesseract OCR\"\"\"\n    \n    @staticmethod\n    def find_tesseract():\n        \"\"\"Find Tesseract executable using environment configuration\"\"\"\n        # Check environment variable first (from .env file or system)\n        if 'TESSERACT_CMD' in os.environ:\n            tesseract_cmd = os.environ['TESSERACT_CMD']\n            # If it's a relative path, make it absolute from notebook directory\n            if not os.path.isabs(tesseract_cmd):\n                tesseract_cmd = os.path.join(NOTEBOOK_DIR, tesseract_cmd)\n            return tesseract_cmd\n        \n        # Fallback to common system paths\n        tesseract_paths = [\n            'tesseract',  # If in PATH\n            '/usr/bin/tesseract',  # Linux system\n            '/usr/local/bin/tesseract',  # Linux local\n        ]\n        \n        for path in tesseract_paths:\n            if path == 'tesseract' or os.path.exists(path):\n                return path\n        \n        return None\n    \n    @classmethod\n    def configure(cls):\n        \"\"\"Configure Tesseract path and data directory\"\"\"\n        # Set Tesseract executable path\n        tesseract_cmd = cls.find_tesseract()\n        if tesseract_cmd:\n            pytesseract.pytesseract.tesseract_cmd = tesseract_cmd\n            print(f\"✅ Using Tesseract at: {tesseract_cmd}\")\n        else:\n            print(\"❌ Warning: Tesseract not found\")\n            return False\n        \n        # Set TESSDATA_PREFIX environment variable for Docling\n        if 'TESSDATA_PREFIX' in os.environ:\n            tessdata_prefix = os.environ['TESSDATA_PREFIX']\n            # Ensure it's set in the environment\n            os.environ['TESSDATA_PREFIX'] = tessdata_prefix\n            print(f\"✅ TESSDATA_PREFIX set to: {tessdata_prefix}\")\n        else:\n            print(\"⚠️ Warning: TESSDATA_PREFIX not set. Add it to .env file for Docling to work properly\")\n        \n        return True\n\n# Configure Tesseract\nTesseractConfig.configure()"
  },
  {
   "cell_type": "markdown",
   "metadata": {},
   "source": [
    "### OCR Processor Class with Multiple Methods"
   ]
  },
  {
   "cell_type": "code",
   "execution_count": null,
   "metadata": {},
   "outputs": [],
   "source": "class OCRProcessor:\n    \"\"\"Main OCR processing class with multiple methods including Docling\"\"\"\n    \n    def __init__(self):\n        \"\"\"Initialize OCR processors\"\"\"\n        # Initialize EasyOCR reader\n        self.easyocr_reader = easyocr.Reader(['ar', 'en'])\n        print(\"✅ EasyOCR reader initialized\")\n        \n        # Initialize Docling converters\n        self._init_docling_converters()\n    \n    def _init_docling_converters(self):\n        \"\"\"Initialize Docling document converters with different OCR backends\"\"\"\n        try:\n            # Docling with EasyOCR backend\n            self.docling_easyocr_converter = DocumentConverter(\n                format_options={\n                    InputFormat.IMAGE: ImageFormatOption(\n                        pipeline_options=PdfPipelineOptions(\n                            do_ocr=True,\n                            ocr_options=EasyOcrOptions(\n                                lang=['ar', 'en'],\n                                use_gpu=False,\n                                confidence_threshold=0.5\n                            )\n                        )\n                    )\n                }\n            )\n            print(\"✅ Docling EasyOCR converter initialized\")\n            \n            # Docling with Tesseract backend\n            self.docling_tesseract_converter = DocumentConverter(\n                format_options={\n                    InputFormat.IMAGE: ImageFormatOption(\n                        pipeline_options=PdfPipelineOptions(\n                            do_ocr=True,\n                            ocr_options=TesseractOcrOptions(\n                                lang=['ara', 'eng']\n                            )\n                        )\n                    )\n                }\n            )\n            print(\"✅ Docling Tesseract converter initialized\")\n            \n            # Docling with TesseractCLI backend\n            # Get the tesseract path (same as configured for pytesseract)\n            tesseract_path = pytesseract.pytesseract.tesseract_cmd\n            print(f\"  Using Tesseract path for Docling: {tesseract_path}\")\n            \n            self.docling_tesseract_cli_converter = DocumentConverter(\n                format_options={\n                    InputFormat.IMAGE: ImageFormatOption(\n                        pipeline_options=PdfPipelineOptions(\n                            do_ocr=True,\n                            ocr_options=TesseractCliOcrOptions(\n                                lang=['ara', 'eng'],\n                                path=tesseract_path\n                            )\n                        )\n                    )\n                }\n            )\n            print(\"✅ Docling TesseractCLI converter initialized\")\n            \n        except Exception as e:\n            print(f\"⚠️ Warning: Some Docling converters failed to initialize: {e}\")\n    \n    def safe_pytesseract_extract(self, image, config='--psm 6'):\n        \"\"\"Safely extract text from image using pytesseract with proper encoding\"\"\"\n        try:\n            # Convert to PIL Image for better compatibility\n            if len(image.shape) == 3:\n                pil_image = Image.fromarray(image)\n            else:\n                pil_image = Image.fromarray(image)\n\n            # Extract text with proper encoding handling\n            text = pytesseract.image_to_string(\n                pil_image,\n                lang='ara+eng',\n                config=config\n            )\n\n            # Handle encoding issues\n            if isinstance(text, bytes):\n                try:\n                    text = text.decode('utf-8')\n                except UnicodeDecodeError:\n                    try:\n                        text = text.decode('cp1256')  # Arabic Windows encoding\n                    except UnicodeDecodeError:\n                        text = text.decode('utf-8', errors='replace')\n\n            # Clean the text\n            text = text.strip()\n\n            # If text is empty, try alternative PSM modes\n            if not text:\n                for psm_mode in ['--psm 3', '--psm 4', '--psm 11']:\n                    text = pytesseract.image_to_string(\n                        pil_image,\n                        lang='ara+eng',\n                        config=psm_mode\n                    )\n                    if isinstance(text, bytes):\n                        try:\n                            text = text.decode('utf-8')\n                        except UnicodeDecodeError:\n                            text = text.decode('utf-8', errors='replace')\n                    text = text.strip()\n                    if text:\n                        break\n\n            return text if text else \"No text detected\"\n\n        except Exception as e:\n            return f\"Error: {str(e)}\"\n    \n    # Standard OCR Methods\n    def extract_easyocr(self, image_path):\n        \"\"\"Extract text using EasyOCR\"\"\"\n        try:\n            results = self.easyocr_reader.readtext(str(image_path))\n            text_parts = [result[1] for result in results]\n            return \"\\n\".join(text_parts)\n        except Exception as e:\n            return f\"Error: {e}\"\n    \n    def extract_pytesseract(self, image_path):\n        \"\"\"Extract text using Pytesseract\"\"\"\n        try:\n            img = cv2.imread(str(image_path))\n            if img is None:\n                return \"Error: Could not read image\"\n            \n            img_rgb = cv2.cvtColor(img, cv2.COLOR_BGR2RGB)\n            return self.safe_pytesseract_extract(img_rgb)\n        except Exception as e:\n            return f\"Error: {e}\"\n    \n    def extract_opencv(self, image_path):\n        \"\"\"Extract text using OpenCV preprocessing + Pytesseract\"\"\"\n        try:\n            img = cv2.imread(str(image_path))\n            if img is None:\n                return \"Error: Could not read image\"\n            \n            gray = cv2.cvtColor(img, cv2.COLOR_BGR2GRAY)\n            _, binary = cv2.threshold(gray, 0, 255, cv2.THRESH_BINARY + cv2.THRESH_OTSU)\n            \n            return self.safe_pytesseract_extract(binary)\n        except Exception as e:\n            return f\"Error: {e}\"\n    \n    def extract_enhanced(self, image_path):\n        \"\"\"Extract text with enhanced preprocessing\"\"\"\n        try:\n            img = cv2.imread(str(image_path))\n            if img is None:\n                return \"Error: Could not read image\"\n            \n            gray = cv2.cvtColor(img, cv2.COLOR_BGR2GRAY)\n            blurred = cv2.GaussianBlur(gray, (5, 5), 0)\n            binary = cv2.adaptiveThreshold(blurred, 255, cv2.ADAPTIVE_THRESH_GAUSSIAN_C, cv2.THRESH_BINARY, 11, 2)\n            \n            return self.safe_pytesseract_extract(binary)\n        except Exception as e:\n            return f\"Error: {e}\"\n    \n    # Docling OCR Methods\n    def extract_docling_easyocr(self, image_path):\n        \"\"\"Extract text using Docling with EasyOCR backend\"\"\"\n        try:\n            result = self.docling_easyocr_converter.convert(str(image_path))\n            return result.document.export_to_markdown()\n        except Exception as e:\n            return f\"Error: {e}\"\n    \n    def extract_docling_tesseract(self, image_path):\n        \"\"\"Extract text using Docling with Tesseract backend\"\"\"\n        try:\n            result = self.docling_tesseract_converter.convert(str(image_path))\n            return result.document.export_to_markdown()\n        except Exception as e:\n            return f\"Error: {e}\"\n    \n    def extract_docling_tesseract_cli(self, image_path):\n        \"\"\"Extract text using Docling with TesseractCLI backend\"\"\"\n        try:\n            result = self.docling_tesseract_cli_converter.convert(str(image_path))\n            return result.document.export_to_markdown()\n        except Exception as e:\n            return f\"Error: {e}\"\n\n# Initialize OCR processor\nocr_processor = OCRProcessor()"
  },
  {
   "cell_type": "markdown",
   "metadata": {},
   "source": [
    "### Results Processing Class"
   ]
  },
  {
   "cell_type": "code",
   "execution_count": null,
   "metadata": {},
   "outputs": [],
   "source": [
    "class OCRResults:\n",
    "    \"\"\"Class to handle OCR results and data processing\"\"\"\n",
    "    \n",
    "    def __init__(self, images_dir):\n",
    "        \"\"\"Initialize with images directory\"\"\"\n",
    "        self.images_dir = Path(images_dir)\n",
    "        self.image_paths = sorted(self.images_dir.glob('*.jpg'))[:10]\n",
    "        self.results = []\n",
    "        \n",
    "        print(f\"Working directory: {Path.cwd()}\")\n",
    "        print(f\"Images directory: {self.images_dir}\")\n",
    "        print(f\"Found {len(self.image_paths)} images to process\")\n",
    "    \n",
    "    def process_images(self, ocr_processor, include_docling=True):\n",
    "        \"\"\"Process all images with different OCR methods\"\"\"\n",
    "        for image_path in self.image_paths:\n",
    "            print(f\"Processing: {image_path.name}\")\n",
    "            \n",
    "            result = {\n",
    "                \"image_path\": image_path.name,\n",
    "                \"easyocr_text\": ocr_processor.extract_easyocr(image_path),\n",
    "                \"pytesseract_text\": ocr_processor.extract_pytesseract(image_path),\n",
    "                \"opencv_text\": ocr_processor.extract_opencv(image_path),\n",
    "                \"enhanced_text\": ocr_processor.extract_enhanced(image_path)\n",
    "            }\n",
    "            \n",
    "            # Add Docling methods if requested\n",
    "            if include_docling:\n",
    "                result[\"docling_easyocr_text\"] = ocr_processor.extract_docling_easyocr(image_path)\n",
    "                result[\"docling_tesseract_text\"] = ocr_processor.extract_docling_tesseract(image_path)\n",
    "                result[\"docling_tesseract_cli_text\"] = ocr_processor.extract_docling_tesseract_cli(image_path)\n",
    "            \n",
    "            self.results.append(result)\n",
    "    \n",
    "    def create_dataframe(self, include_docling=True):\n",
    "        \"\"\"Create a pandas DataFrame for better visualization\"\"\"\n",
    "        results_data = []\n",
    "        for res in self.results:\n",
    "            row = {\n",
    "                'Image': res['image_path'],\n",
    "                'EasyOCR': res['easyocr_text'][:100] + '...' if len(res['easyocr_text']) > 100 else res['easyocr_text'],\n",
    "                'Pytesseract': res['pytesseract_text'][:100] + '...' if len(res['pytesseract_text']) > 100 else res['pytesseract_text'],\n",
    "                'OpenCV': res['opencv_text'][:100] + '...' if len(res['opencv_text']) > 100 else res['opencv_text'],\n",
    "                'Enhanced': res['enhanced_text'][:100] + '...' if len(res['enhanced_text']) > 100 else res['enhanced_text']\n",
    "            }\n",
    "            \n",
    "            # Add Docling columns if available\n",
    "            if include_docling and 'docling_easyocr_text' in res:\n",
    "                row['Docling-EasyOCR'] = res['docling_easyocr_text'][:100] + '...' if len(res['docling_easyocr_text']) > 100 else res['docling_easyocr_text']\n",
    "                row['Docling-Tesseract'] = res['docling_tesseract_text'][:100] + '...' if len(res['docling_tesseract_text']) > 100 else res['docling_tesseract_text']\n",
    "                row['Docling-TessCLI'] = res['docling_tesseract_cli_text'][:100] + '...' if len(res['docling_tesseract_cli_text']) > 100 else res['docling_tesseract_cli_text']\n",
    "            \n",
    "            results_data.append(row)\n",
    "        \n",
    "        return pd.DataFrame(results_data)\n",
    "    \n",
    "    def display_results(self, include_docling=True):\n",
    "        \"\"\"Display results in organized format\"\"\"\n",
    "        df = self.create_dataframe(include_docling)\n",
    "        print(\"\\n\" + \"=\" * 120)\n",
    "        print(\"OCR RESULTS SUMMARY\")\n",
    "        print(\"=\" * 120)\n",
    "        print(df.to_string(index=False))\n",
    "        \n",
    "        print(\"\\n\" + \"=\" * 120)\n",
    "        print(\"DETAILED RESULTS\")\n",
    "        print(\"=\" * 120)\n",
    "        \n",
    "        for i, res in enumerate(self.results):\n",
    "            print(f\"\\n--- IMAGE {i+1}: {res['image_path']} ---\")\n",
    "            print(f\"\\n[EasyOCR]\\n{res['easyocr_text']}\")\n",
    "            print(f\"\\n[Pytesseract]\\n{res['pytesseract_text']}\")\n",
    "            print(f\"\\n[OpenCV]\\n{res['opencv_text']}\")\n",
    "            print(f\"\\n[Enhanced]\\n{res['enhanced_text']}\")\n",
    "            \n",
    "            if include_docling and 'docling_easyocr_text' in res:\n",
    "                print(f\"\\n[Docling-EasyOCR]\\n{res['docling_easyocr_text']}\")\n",
    "                print(f\"\\n[Docling-Tesseract]\\n{res['docling_tesseract_text']}\")\n",
    "                print(f\"\\n[Docling-TesseractCLI]\\n{res['docling_tesseract_cli_text']}\")\n",
    "            \n",
    "            print(\"-\" * 120)\n",
    "\n",
    "# Initialize results processor\n",
    "images_dir = os.getenv('DATASET_IMAGES_DIR', './datasets/train/images')\n",
    "results_processor = OCRResults(images_dir)"
   ]
  },
  {
   "cell_type": "markdown",
   "metadata": {},
   "source": [
    "### Available OCR Methods\n",
    "\n",
    "**Standard Methods:**\n",
    "- EasyOCR (direct)\n",
    "- Pytesseract (direct)\n",
    "- OpenCV + Pytesseract\n",
    "- Enhanced preprocessing + Pytesseract\n",
    "\n",
    "**Docling Methods:**\n",
    "- Docling with EasyOCR backend\n",
    "- Docling with Tesseract backend\n",
    "- Docling with TesseractCLI backend"
   ]
  },
  {
   "cell_type": "markdown",
   "metadata": {},
   "source": [
    "### Run OCR Processing"
   ]
  },
  {
   "cell_type": "code",
   "execution_count": null,
   "metadata": {},
   "outputs": [],
   "source": [
    "# Process all images with ALL methods (standard + Docling)\n",
    "results_processor.process_images(ocr_processor, include_docling=True)\n",
    "\n",
    "# Display results\n",
    "results_processor.display_results(include_docling=True)"
   ]
  }
 ],
 "metadata": {
  "kernelspec": {
   "display_name": "Python 3",
   "language": "python",
   "name": "python3"
  },
  "language_info": {
   "codemirror_mode": {
    "name": "ipython",
    "version": 3
   },
   "file_extension": ".py",
   "mimetype": "text/x-python",
   "name": "python",
   "nbconvert_exporter": "python",
   "pygments_lexer": "ipython3",
   "version": "3.8.0"
  }
 },
 "nbformat": 4,
 "nbformat_minor": 4
}